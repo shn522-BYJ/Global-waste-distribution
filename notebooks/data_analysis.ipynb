{
 "cells": [
  {
   "cell_type": "code",
   "execution_count": 5,
   "metadata": {
    "colab": {
     "base_uri": "https://localhost:8080/"
    },
    "id": "WEmTpNBxIWOA",
    "outputId": "5d91fc58-14a5-4093-f52a-15228c4d76c1"
   },
   "outputs": [
    {
     "ename": "ModuleNotFoundError",
     "evalue": "No module named 'google'",
     "output_type": "error",
     "traceback": [
      "\u001b[1;31m---------------------------------------------------------------------------\u001b[0m",
      "\u001b[1;31mModuleNotFoundError\u001b[0m                       Traceback (most recent call last)",
      "Cell \u001b[1;32mIn[5], line 1\u001b[0m\n\u001b[1;32m----> 1\u001b[0m \u001b[38;5;28;01mfrom\u001b[39;00m \u001b[38;5;21;01mgoogle\u001b[39;00m\u001b[38;5;21;01m.\u001b[39;00m\u001b[38;5;21;01mcolab\u001b[39;00m \u001b[38;5;28;01mimport\u001b[39;00m drive; drive\u001b[38;5;241m.\u001b[39mmount(\u001b[38;5;124m'\u001b[39m\u001b[38;5;124m/content/drive\u001b[39m\u001b[38;5;124m'\u001b[39m)\n",
      "\u001b[1;31mModuleNotFoundError\u001b[0m: No module named 'google'"
     ]
    }
   ],
   "source": [
    "from google.colab import drive; drive.mount('/content/drive')"
   ]
  },
  {
   "cell_type": "code",
   "execution_count": null,
   "metadata": {
    "id": "y-cRL05hLBwt"
   },
   "outputs": [],
   "source": [
    "# Load datasets\n",
    "import pandas as pd\n",
    "city_data = pd.read_csv(\"/content/city_level_data_0_0.csv\", encoding='cp1252')\n",
    "# Added encoding='latin-1' to handle the different file encoding\n",
    "city_codebook = pd.read_csv(\"/content/city_level_codebook_0.csv\", encoding='latin-1')"
   ]
  },
  {
   "cell_type": "code",
   "execution_count": null,
   "metadata": {
    "colab": {
     "base_uri": "https://localhost:8080/",
     "height": 478
    },
    "id": "04FYLVgdLKy-",
    "outputId": "4dbdbb42-7653-428e-cc26-7051fd65fc54"
   },
   "outputs": [],
   "source": [
    "city_data"
   ]
  },
  {
   "cell_type": "code",
   "execution_count": null,
   "metadata": {
    "colab": {
     "base_uri": "https://localhost:8080/"
    },
    "id": "1tOs2gNOfrjZ",
    "outputId": "2ff361f5-9b68-49df-f7ce-c9e1244b76cf"
   },
   "outputs": [],
   "source": [
    "# Check for missing values\n",
    "print(city_data.isnull().sum())"
   ]
  },
  {
   "cell_type": "code",
   "execution_count": null,
   "metadata": {
    "colab": {
     "base_uri": "https://localhost:8080/",
     "height": 424
    },
    "id": "5oTFtS1bkmH8",
    "outputId": "efb06c31-97a1-4c84-a7fd-eb60ecc81a59"
   },
   "outputs": [],
   "source": [
    "city_Newdata = city_data[[\"iso3c\",\"region_id\",\"country_name\",\"city_name\",\"income_id\",\"population_population_number_of_people\",\"total_msw_total_msw_generated_tons_year\",\"waste_treatment_open_dump_percent\",\"waste_treatment_recycling_percent\"]].copy()\n",
    "# Changed the tuple of column names to a list by enclosing it in square brackets []\n",
    "# This will correctly select the desired columns and create a copy in city_Newdata\n",
    "city_Newdata"
   ]
  },
  {
   "cell_type": "code",
   "execution_count": null,
   "metadata": {
    "colab": {
     "base_uri": "https://localhost:8080/"
    },
    "id": "kQwjt8jppJAf",
    "outputId": "fc0ecdbe-7e51-452b-f82c-7b73856623c0"
   },
   "outputs": [],
   "source": [
    "# Check for missing values\n",
    "print(city_Newdata.isnull().sum())"
   ]
  },
  {
   "cell_type": "code",
   "execution_count": null,
   "metadata": {
    "colab": {
     "base_uri": "https://localhost:8080/"
    },
    "id": "AH6r5789ToHK",
    "outputId": "5fb2a076-1389-45b3-cb73-64da05fc8dec"
   },
   "outputs": [],
   "source": [
    "waste_summary = city_Newdata.groupby('region_id')[['waste_treatment_open_dump_percent', 'waste_treatment_recycling_percent']].mean()\n",
    "print(waste_summary)"
   ]
  },
  {
   "cell_type": "code",
   "execution_count": null,
   "metadata": {
    "colab": {
     "base_uri": "https://localhost:8080/",
     "height": 945
    },
    "id": "uFCIL8jeT4XU",
    "outputId": "aded2c98-1c53-4f61-f681-6821b634d203"
   },
   "outputs": [],
   "source": [
    "import matplotlib.pyplot as plt\n",
    "import seaborn as sns\n",
    "\n",
    "# Population distribution\n",
    "sns.histplot(city_Newdata['population_population_number_of_people'], kde=True)\n",
    "plt.title('City Population Distribution')\n",
    "plt.show()\n",
    "\n",
    "# Waste treatment percentages by income group\n",
    "waste_cols = ['waste_treatment_open_dump_percent', 'waste_treatment_recycling_percent']\n",
    "city_Newdata.groupby('income_id')[waste_cols].mean().plot(kind='bar')\n",
    "plt.title('Waste Treatment by Income Group')\n",
    "plt.show()"
   ]
  },
  {
   "cell_type": "code",
   "execution_count": null,
   "metadata": {
    "colab": {
     "base_uri": "https://localhost:8080/",
     "height": 542
    },
    "id": "Qotw_MBsUC4q",
    "outputId": "e864d1d6-2f03-4c6e-8e5f-ab9d1d377d37"
   },
   "outputs": [],
   "source": [
    "import plotly.express as px\n",
    "\n",
    "# Example: Regional Waste Treatment Visualization\n",
    "fig = px.bar(city_Newdata, x='region_id', y='waste_treatment_open_dump_percent', color='income_id')\n",
    "fig.show()"
   ]
  },
  {
   "cell_type": "code",
   "execution_count": null,
   "metadata": {
    "id": "FRWckyalqr6M"
   },
   "outputs": [],
   "source": [
    "import plotly.express as px\n",
    "\n",
    "# Example: Regional Waste Treatment Visualization\n",
    "#fig = px.bar(city_Newdata, x='city_name', y='waste_treatment_open_dump_percent', color='income_id')\n",
    "#fig.show()"
   ]
  },
  {
   "cell_type": "code",
   "execution_count": null,
   "metadata": {
    "colab": {
     "base_uri": "https://localhost:8080/",
     "height": 542
    },
    "id": "Si3sOsd4yVQW",
    "outputId": "e4c076b0-0360-4cca-fa1d-f396c9eee145"
   },
   "outputs": [],
   "source": [
    "import plotly.express as px\n",
    "\n",
    "# Sort the data by 'waste_treatment_recycling_percent' in descending order\n",
    "sorted_data = city_Newdata.sort_values(by='waste_treatment_open_dump_percent', ascending=False)\n",
    "\n",
    "# Select the top 10 cities\n",
    "top_10_cities = sorted_data.head(10)\n",
    "\n",
    "# Create the bar chart\n",
    "fig = px.bar(\n",
    "    top_10_cities,\n",
    "    x='city_name',\n",
    "    y='waste_treatment_open_dump_percent',\n",
    "    color='income_id',\n",
    "    title='Top 10 Cities by Waste Treatment Open dump Percentage',\n",
    "    labels={'waste_treatment_open_dump_percent': 'Open dump (%)'},\n",
    ")\n",
    "\n",
    "# Customize the layout\n",
    "fig.update_layout(\n",
    "    xaxis_title=\"City Name\",\n",
    "    yaxis_title=\"Open dump (%)\",\n",
    "    xaxis=dict(tickangle=45, categoryorder='total descending'),  # Ensure sorted order is preserved\n",
    "    showlegend=True,\n",
    "    template=\"plotly_white\"\n",
    ")\n",
    "\n",
    "# Show the figure\n",
    "fig.show()"
   ]
  },
  {
   "cell_type": "code",
   "execution_count": null,
   "metadata": {
    "colab": {
     "base_uri": "https://localhost:8080/",
     "height": 542
    },
    "id": "ANy90hqhURv7",
    "outputId": "8547c633-fc00-40c2-bdfb-92f40fe2c4f4"
   },
   "outputs": [],
   "source": [
    "import plotly.express as px\n",
    "\n",
    "# Example: Regional Waste Treatment Visualization\n",
    "fig = px.bar(city_Newdata, x='region_id', y='waste_treatment_recycling_percent', color='income_id')\n",
    "fig.show()"
   ]
  },
  {
   "cell_type": "code",
   "execution_count": null,
   "metadata": {
    "id": "Ycw8ykYPpWf0"
   },
   "outputs": [],
   "source": [
    "import plotly.express as px\n",
    "\n",
    "# Example: Regional Waste Treatment Visualization\n",
    "#fig = px.bar(city_Newdata, x='city_name', y='waste_treatment_recycling_percent', color='income_id')\n",
    "#fig.show()"
   ]
  },
  {
   "cell_type": "code",
   "execution_count": null,
   "metadata": {
    "colab": {
     "base_uri": "https://localhost:8080/",
     "height": 542
    },
    "id": "Ka1b5dVkxa8q",
    "outputId": "f939dc6a-f6df-47a3-ba3a-3562370e1b57"
   },
   "outputs": [],
   "source": [
    "import plotly.express as px\n",
    "\n",
    "# Sort the data by 'waste_treatment_recycling_percent' in descending order\n",
    "sorted_data = city_Newdata.sort_values(by='waste_treatment_recycling_percent', ascending=False)\n",
    "\n",
    "# Select the top 10 cities\n",
    "top_10_cities = sorted_data.head(10)\n",
    "\n",
    "# Create the bar chart\n",
    "fig = px.bar(\n",
    "    top_10_cities,\n",
    "    x='city_name',\n",
    "    y='waste_treatment_recycling_percent',\n",
    "    color='income_id',\n",
    "    title='Top 10 Cities by Waste Treatment Recycling Percentage',\n",
    "    labels={'waste_treatment_recycling_percent': 'Recycling Percentage (%)'},\n",
    ")\n",
    "\n",
    "# Customize the layout\n",
    "fig.update_layout(\n",
    "    xaxis_title=\"City Name\",\n",
    "    yaxis_title=\"Recycling Percentage (%)\",\n",
    "    xaxis=dict(tickangle=45, categoryorder='total descending'),  # Ensure sorted order is preserved\n",
    "    showlegend=True,\n",
    "    template=\"plotly_white\"\n",
    ")\n",
    "\n",
    "# Show the figure\n",
    "fig.show()\n"
   ]
  },
  {
   "cell_type": "code",
   "execution_count": null,
   "metadata": {
    "colab": {
     "base_uri": "https://localhost:8080/",
     "height": 424
    },
    "id": "V2A7-nfEQyBU",
    "outputId": "85cf2066-c117-4e76-a409-2d677f16171e"
   },
   "outputs": [],
   "source": [
    "city_Newdata1 = city_data[[\"iso3c\",\"region_id\",\"country_name\",\"city_name\",\"income_id\",\"population_population_number_of_people\",\"total_msw_total_msw_generated_tons_year\",\"waste_treatment_open_dump_percent\",\"waste_treatment_recycling_percent\"]].copy()\n",
    "# Changed the tuple of column names to a list by enclosing it in square brackets []\n",
    "# This will correctly select the desired columns and create a copy in city_Newdata\n",
    "city_Newdata1"
   ]
  },
  {
   "cell_type": "code",
   "execution_count": null,
   "metadata": {
    "colab": {
     "base_uri": "https://localhost:8080/"
    },
    "id": "nBma74twrPN9",
    "outputId": "2425e5d2-b0ba-4868-bccd-8f90a1791d81"
   },
   "outputs": [],
   "source": [
    "# Check for missing values\n",
    "print(city_Newdata1.isnull().sum())"
   ]
  },
  {
   "cell_type": "code",
   "execution_count": null,
   "metadata": {
    "colab": {
     "base_uri": "https://localhost:8080/",
     "height": 424
    },
    "id": "Jd41nCZMr5rr",
    "outputId": "3012ca6e-e721-44e3-c065-95073cd7b90e"
   },
   "outputs": [],
   "source": [
    "city_total_data = city_Newdata1.dropna(subset=[\"total_msw_total_msw_generated_tons_year\"], inplace=False)\n",
    "# Changed the first argument to subset=[\"total_msw_total_msw_generated_tons_year\"]\n",
    "# This will drop rows where \"total_msw_total_msw_generated_tons_year\" has missing values\n",
    "city_total_data"
   ]
  },
  {
   "cell_type": "code",
   "execution_count": null,
   "metadata": {
    "colab": {
     "base_uri": "https://localhost:8080/",
     "height": 899
    },
    "id": "3HYO3D2zMJvn",
    "outputId": "74677af2-abb2-4e34-d76d-4197a572fa29"
   },
   "outputs": [],
   "source": [
    "city_total_data[\"total_msw_total_msw_generated_tons_year\"] = pd.to_numeric(city_total_data[\"total_msw_total_msw_generated_tons_year\"], errors='coerce')\n",
    "city_total_data[\"population_population_number_of_people\"] = pd.to_numeric(city_total_data[\"population_population_number_of_people\"], errors='coerce')\n",
    "city_total_data[\"msw per capita\"] = city_total_data[\"total_msw_total_msw_generated_tons_year\"] / city_total_data[\"population_population_number_of_people\"]\n",
    "city_total_data"
   ]
  },
  {
   "cell_type": "code",
   "execution_count": null,
   "metadata": {
    "colab": {
     "base_uri": "https://localhost:8080/"
    },
    "id": "cxh8v2YFHQNZ",
    "outputId": "0aaf6ed6-a49c-442d-c189-b91df294f2f4"
   },
   "outputs": [],
   "source": [
    "# Check for missing values\n",
    "print(city_total_data.isnull().sum())\n"
   ]
  },
  {
   "cell_type": "code",
   "execution_count": null,
   "metadata": {
    "colab": {
     "base_uri": "https://localhost:8080/",
     "height": 458
    },
    "id": "aFPcK03vpg7C",
    "outputId": "f2db20cc-cab4-490e-d85c-3e8a767ff439"
   },
   "outputs": [],
   "source": [
    "city_total_data = city_total_data.dropna(subset=[\"total_msw_total_msw_generated_tons_year\"], inplace=False)\n",
    "# Changed the first argument to subset=[\"total_msw_total_msw_generated_tons_year\"]\n",
    "# This will drop rows where \"total_msw_total_msw_generated_tons_year\" has missing values\n",
    "city_total_data"
   ]
  },
  {
   "cell_type": "code",
   "execution_count": null,
   "metadata": {
    "colab": {
     "base_uri": "https://localhost:8080/"
    },
    "id": "54goAj1spmmK",
    "outputId": "c77106f1-bf9d-4d39-9399-78f0c4795d06"
   },
   "outputs": [],
   "source": [
    "# Check for missing values\n",
    "print(city_total_data.isnull().sum())"
   ]
  },
  {
   "cell_type": "code",
   "execution_count": null,
   "metadata": {
    "colab": {
     "base_uri": "https://localhost:8080/",
     "height": 821
    },
    "id": "Aq6IXTGnMhd1",
    "outputId": "4013ab56-b015-45d9-a316-a4bda6b2bd77"
   },
   "outputs": [],
   "source": [
    "import matplotlib.pyplot as plt\n",
    "import pandas as pd\n",
    "# Convert the 'total_msw_total_msw_generated_tons_year' column to numeric type before using nlargest\n",
    "city_total_data[\"total_msw_total_msw_generated_tons_year\"] = pd.to_numeric(city_total_data[\"total_msw_total_msw_generated_tons_year\"], errors='coerce')\n",
    "\n",
    "# Filter the top 10 cities based on total waste generated\n",
    "#cities = city_total_data.nlargest(326, \"total_msw_total_msw_generated_tons_year\")\n",
    "top_cities = city_total_data.nlargest(10, \"total_msw_total_msw_generated_tons_year\")\n",
    "# Dynamically adjust the figure size based on the number of cities\n",
    "plt.figure(figsize=(max(15, len(top_cities) / 2), 8))  # Adjust width dynamically\n",
    "\n",
    "# Plot the bar chart\n",
    "plt.bar(top_cities[\"city_name\"], top_cities[\"total_msw_total_msw_generated_tons_year\"], color='orange')\n",
    "\n",
    "# Customize the plot\n",
    "plt.xticks(rotation=90, fontsize=10)  # Rotate X-axis labels for better readability\n",
    "plt.xlabel(\"City Name\", fontsize=14)\n",
    "plt.ylabel(\"Total MSW Generated (tons/Year)\", fontsize=14)\n",
    "plt.title(\"Waste Generated by Top 10 Cities\", fontsize=16)\n",
    "plt.grid(axis='y', linestyle='--', alpha=0.7)\n",
    "\n",
    "# Display the plot\n",
    "plt.show()"
   ]
  },
  {
   "cell_type": "code",
   "execution_count": null,
   "metadata": {
    "colab": {
     "base_uri": "https://localhost:8080/",
     "height": 1000
    },
    "id": "aEM49OSNTSAP",
    "outputId": "e544d737-2696-4911-8763-dd08a5229441"
   },
   "outputs": [],
   "source": [
    "import matplotlib.pyplot as plt\n",
    "import pandas as pd\n",
    "# Convert the 'total_msw_total_msw_generated_tons_year' column to numeric type before using nlargest\n",
    "city_total_data[\"msw per capita\"] = pd.to_numeric(city_total_data[\"msw per capita\"], errors='coerce')\n",
    "\n",
    "# Filter the top 10 cities based on total waste generated\n",
    "#cities = city_total_data.nlargest(326, \"total_msw_total_msw_generated_tons_year\")\n",
    "top_cities = city_total_data.nlargest(10, \"msw per capita\")\n",
    "# Dynamically adjust the figure size based on the number of cities\n",
    "plt.figure(figsize=(max(15, len(top_cities) / 2), 8))  # Adjust width dynamically\n",
    "\n",
    "# Plot the bar chart\n",
    "plt.bar(top_cities[\"city_name\"], top_cities[\"msw per capita\"], color='grey')\n",
    "\n",
    "# Customize the plot\n",
    "plt.xticks(rotation=90, fontsize=10)  # Rotate X-axis labels for better readability\n",
    "plt.xlabel(\"City Name\", fontsize=14)\n",
    "plt.ylabel(\"MSW per capita (tons/Year)\", fontsize=14)\n",
    "plt.title(\"Waste per capita Generated by Top 10 Cities\", fontsize=16)\n",
    "plt.grid(axis='y', linestyle='--', alpha=0.7)\n",
    "\n",
    "# Display the plot\n",
    "plt.show()"
   ]
  },
  {
   "cell_type": "code",
   "execution_count": null,
   "metadata": {
    "colab": {
     "base_uri": "https://localhost:8080/",
     "height": 597
    },
    "id": "vXQwsep2pEZh",
    "outputId": "81175430-379a-490d-c133-ae82c0c63b28"
   },
   "outputs": [],
   "source": [
    "city_codebook"
   ]
  },
  {
   "cell_type": "code",
   "execution_count": null,
   "metadata": {
    "colab": {
     "base_uri": "https://localhost:8080/",
     "height": 571
    },
    "id": "44bV2yYNZpe4",
    "outputId": "e214b354-cdc8-44d1-d8dd-e6dc193b8e2d"
   },
   "outputs": [],
   "source": [
    "city_Newcodebook = city_codebook.iloc[:,0:8]\n",
    "city_Year_codebook = city_Newcodebook.dropna(subset=[\"year\"])\n",
    "tonnes_data = city_Year_codebook[city_Year_codebook['units'] == 'tonnes/year']\n",
    "city_Year_codebook['year'] = city_Year_codebook['year'].astype(int)\n",
    "tonnes_data"
   ]
  },
  {
   "cell_type": "markdown",
   "metadata": {
    "id": "0ALXTVAkaD7Z"
   },
   "source": []
  },
  {
   "cell_type": "code",
   "execution_count": 6,
   "metadata": {
    "colab": {
     "base_uri": "https://localhost:8080/",
     "height": 552
    },
    "id": "q70zpEPvXABW",
    "outputId": "3dafe13e-1df7-4199-c0e1-dce0b3ed86c9"
   },
   "outputs": [
    {
     "ename": "NameError",
     "evalue": "name 'tonnes_data' is not defined",
     "output_type": "error",
     "traceback": [
      "\u001b[1;31m---------------------------------------------------------------------------\u001b[0m",
      "\u001b[1;31mNameError\u001b[0m                                 Traceback (most recent call last)",
      "Cell \u001b[1;32mIn[6], line 4\u001b[0m\n\u001b[0;32m      1\u001b[0m \u001b[38;5;28;01mimport\u001b[39;00m \u001b[38;5;21;01mpandas\u001b[39;00m \u001b[38;5;28;01mas\u001b[39;00m \u001b[38;5;21;01mpd\u001b[39;00m\n\u001b[0;32m      3\u001b[0m \u001b[38;5;66;03m# Example: Rename columns in `tonnes_data` to match `city_com_data`\u001b[39;00m\n\u001b[1;32m----> 4\u001b[0m \u001b[43mtonnes_data\u001b[49m\u001b[38;5;241m.\u001b[39mrename(columns\u001b[38;5;241m=\u001b[39m{\n\u001b[0;32m      5\u001b[0m     \u001b[38;5;124m\"\u001b[39m\u001b[38;5;124mregionID\u001b[39m\u001b[38;5;124m\"\u001b[39m: \u001b[38;5;124m\"\u001b[39m\u001b[38;5;124mregion_id\u001b[39m\u001b[38;5;124m\"\u001b[39m,\n\u001b[0;32m      6\u001b[0m     \u001b[38;5;124m\"\u001b[39m\u001b[38;5;124mincomeID\u001b[39m\u001b[38;5;124m\"\u001b[39m: \u001b[38;5;124m\"\u001b[39m\u001b[38;5;124mincome_id\u001b[39m\u001b[38;5;124m\"\u001b[39m\n\u001b[0;32m      7\u001b[0m }, inplace\u001b[38;5;241m=\u001b[39m\u001b[38;5;28;01mTrue\u001b[39;00m)\n\u001b[0;32m      9\u001b[0m \u001b[38;5;66;03m# Perform the merge on common columns\u001b[39;00m\n\u001b[0;32m     10\u001b[0m merged_data \u001b[38;5;241m=\u001b[39m pd\u001b[38;5;241m.\u001b[39mmerge(\n\u001b[0;32m     11\u001b[0m     city_total_data,\n\u001b[0;32m     12\u001b[0m     tonnes_data[[\u001b[38;5;124m\"\u001b[39m\u001b[38;5;124mcity_name\u001b[39m\u001b[38;5;124m\"\u001b[39m, \u001b[38;5;124m\"\u001b[39m\u001b[38;5;124myear\u001b[39m\u001b[38;5;124m\"\u001b[39m]],  \u001b[38;5;66;03m# Only keep necessary columns from tonnes_data\u001b[39;00m\n\u001b[0;32m     13\u001b[0m     how\u001b[38;5;241m=\u001b[39m\u001b[38;5;124m\"\u001b[39m\u001b[38;5;124mleft\u001b[39m\u001b[38;5;124m\"\u001b[39m,  \u001b[38;5;66;03m# Left join to keep all rows from city_com_data\u001b[39;00m\n\u001b[0;32m     14\u001b[0m     on\u001b[38;5;241m=\u001b[39m\u001b[38;5;124m\"\u001b[39m\u001b[38;5;124mcity_name\u001b[39m\u001b[38;5;124m\"\u001b[39m  \u001b[38;5;66;03m# Merge on city_name\u001b[39;00m\n\u001b[0;32m     15\u001b[0m )\n",
      "\u001b[1;31mNameError\u001b[0m: name 'tonnes_data' is not defined"
     ]
    }
   ],
   "source": [
    "import pandas as pd\n",
    "\n",
    "# Example: Rename columns in `tonnes_data` to match `city_com_data`\n",
    "tonnes_data.rename(columns={\n",
    "    \"regionID\": \"region_id\",\n",
    "    \"incomeID\": \"income_id\"\n",
    "}, inplace=True)\n",
    "\n",
    "# Perform the merge on common columns\n",
    "merged_data = pd.merge(\n",
    "    city_total_data,\n",
    "    tonnes_data[[\"city_name\", \"year\"]],  # Only keep necessary columns from tonnes_data\n",
    "    how=\"left\",  # Left join to keep all rows from city_com_data\n",
    "    on=\"city_name\"  # Merge on city_name\n",
    ")\n",
    "\n",
    "# Check the resulting table\n",
    "merged_data\n"
   ]
  },
  {
   "cell_type": "code",
   "execution_count": null,
   "metadata": {
    "colab": {
     "base_uri": "https://localhost:8080/"
    },
    "id": "iuitoWlFXPmA",
    "outputId": "1e243845-6637-4d8c-cac8-1ebbf83d3e4d"
   },
   "outputs": [],
   "source": [
    "# Check for missing values\n",
    "print(merged_data.isnull().sum())"
   ]
  },
  {
   "cell_type": "code",
   "execution_count": null,
   "metadata": {
    "colab": {
     "base_uri": "https://localhost:8080/"
    },
    "id": "21WhpJCFXU9s",
    "outputId": "d5bf857e-de76-4a5c-a6e4-8b1ac70259b8"
   },
   "outputs": [],
   "source": [
    "# Drop rows with missing 'year'\n",
    "city_com = merged_data.dropna(subset=[\"year\",\"total_msw_total_msw_generated_tons_year\"],inplace=False)\n",
    "\n",
    "# Check the size of the resulting DataFrame\n",
    "print(f\"Original data size: {merged_data.shape}\")\n",
    "print(f\"Filtered data size: {city_com.shape}\")\n",
    "\n",
    "# Verify if all 'year' values are now valid\n",
    "print(city_com[\"year\"].isnull().sum())  # Should print 0"
   ]
  },
  {
   "cell_type": "code",
   "execution_count": null,
   "metadata": {
    "colab": {
     "base_uri": "https://localhost:8080/"
    },
    "id": "s9O83FPKXkgw",
    "outputId": "979a7825-7012-443b-e689-d300847127f4"
   },
   "outputs": [],
   "source": [
    "# Check for missing values\n",
    "print(city_com.isnull().sum())"
   ]
  },
  {
   "cell_type": "code",
   "execution_count": null,
   "metadata": {
    "colab": {
     "base_uri": "https://localhost:8080/",
     "height": 424
    },
    "id": "jUpCyYl0XuDq",
    "outputId": "287b3244-ac07-4c35-f502-60cd0a60d070"
   },
   "outputs": [],
   "source": [
    "# Drop rows where \"year\" is NaN\n",
    "city_com_codebook = city_com.dropna(subset=[\"year\"])\n",
    "\n",
    "# Convert the \"year\" column to integers\n",
    "city_com_codebook['year'] = city_com_codebook['year'].astype(int)\n",
    "city_com_codebook"
   ]
  },
  {
   "cell_type": "code",
   "execution_count": null,
   "metadata": {
    "colab": {
     "base_uri": "https://localhost:8080/",
     "height": 373
    },
    "id": "ii4HpiizXz8e",
    "outputId": "a360e9e5-9eb6-4d65-92d9-03ef1979727c"
   },
   "outputs": [],
   "source": [
    "# Trend analysis for a specific metric\n",
    "yearly_trend = city_com_codebook.groupby('year')['waste_treatment_open_dump_percent'].mean()\n",
    "yearly_trend.plot()\n",
    "plt.title('City Waste Treatment open_dump Trends Over Time')\n",
    "plt.show()\n"
   ]
  },
  {
   "cell_type": "code",
   "execution_count": null,
   "metadata": {
    "colab": {
     "base_uri": "https://localhost:8080/",
     "height": 472
    },
    "id": "SVojhvi0Y0QI",
    "outputId": "b4857aa9-e3ee-4d24-c8e9-89bfb3019262"
   },
   "outputs": [],
   "source": [
    "# Trend analysis for a specific metric\n",
    "yearly_trend = city_com_codebook.groupby('year')['waste_treatment_recycling_percent'].mean()\n",
    "yearly_trend.plot()\n",
    "plt.title('City Waste Treatment recycling Trends Over Time')\n",
    "plt.show()"
   ]
  },
  {
   "cell_type": "code",
   "execution_count": null,
   "metadata": {
    "id": "IDv0xVhjLYQ3"
   },
   "outputs": [],
   "source": [
    "# Load datasets\n",
    "country_data = pd.read_csv(\"/content/country_level_data.csv\", encoding='cp1252')\n",
    "# Added encoding='latin-1' to handle the different file encoding\n",
    "country_codebook = pd.read_csv(\"/content/country_level_codebook.csv\", encoding='latin-1')"
   ]
  },
  {
   "cell_type": "code",
   "execution_count": null,
   "metadata": {
    "colab": {
     "base_uri": "https://localhost:8080/"
    },
    "id": "xAUGHcFz90kv",
    "outputId": "40e8a6f5-bccf-4430-c686-3dc8b84463ce"
   },
   "outputs": [],
   "source": [
    "# Check for missing values\n",
    "print(country_data.isnull().sum())"
   ]
  },
  {
   "cell_type": "code",
   "execution_count": null,
   "metadata": {
    "colab": {
     "base_uri": "https://localhost:8080/",
     "height": 424
    },
    "id": "4g5Ho58k90dP",
    "outputId": "3b142431-93fe-4248-deb8-9930bae9b19e"
   },
   "outputs": [],
   "source": [
    "# Drop rows with missing 'year'\n",
    "country_Newdata = country_data[[\"iso3c\",\"region_id\",\"country_name\",\"income_id\",\"gdp\",\"population_population_number_of_people\",\"total_msw_total_msw_generated_tons_year\",\"waste_treatment_open_dump_percent\",\"waste_treatment_recycling_percent\"]].copy()\n",
    "\n",
    "country_Newdata"
   ]
  },
  {
   "cell_type": "code",
   "execution_count": null,
   "metadata": {
    "colab": {
     "base_uri": "https://localhost:8080/"
    },
    "id": "cTVemEDUEJ-g",
    "outputId": "e2c0d5a8-9d46-43f1-e541-809a4bd50f65"
   },
   "outputs": [],
   "source": [
    "# Check for missing values\n",
    "print(country_Newdata.isnull().sum())"
   ]
  },
  {
   "cell_type": "code",
   "execution_count": null,
   "metadata": {
    "colab": {
     "base_uri": "https://localhost:8080/",
     "height": 424
    },
    "id": "IbeSiXz2Eh4S",
    "outputId": "8aadfcd9-7701-4f98-804a-b2419896123f"
   },
   "outputs": [],
   "source": [
    "country_total_data = country_Newdata.dropna(subset=[\"total_msw_total_msw_generated_tons_year\", \"country_name\"],inplace=False)\n",
    "# Changed the first argument to subset=[\"total_msw_total_msw_generated_tons_year\"]\n",
    "# This will drop rows where \"total_msw_total_msw_generated_tons_year\" has missing values\n",
    "country_total_data\n",
    "country_total_data"
   ]
  },
  {
   "cell_type": "code",
   "execution_count": null,
   "metadata": {
    "colab": {
     "base_uri": "https://localhost:8080/"
    },
    "id": "0hlq_b8Q90bA",
    "outputId": "ae1d709a-26cf-4025-dd12-4540354df84d"
   },
   "outputs": [],
   "source": [
    "print(country_total_data.isnull().sum())"
   ]
  },
  {
   "cell_type": "code",
   "execution_count": null,
   "metadata": {
    "colab": {
     "base_uri": "https://localhost:8080/"
    },
    "id": "r8wKZEAMeljy",
    "outputId": "35b6e6fc-c256-4ef7-c461-4c4c0d9b68e1"
   },
   "outputs": [],
   "source": [
    "waste_summary = country_total_data.groupby('region_id')[['waste_treatment_open_dump_percent', 'waste_treatment_recycling_percent']].mean()\n",
    "print(waste_summary)"
   ]
  },
  {
   "cell_type": "code",
   "execution_count": null,
   "metadata": {
    "colab": {
     "base_uri": "https://localhost:8080/",
     "height": 945
    },
    "id": "CJJtrfmze18t",
    "outputId": "901eb1e9-a4a3-4d5e-fe94-9fe3095f1e30"
   },
   "outputs": [],
   "source": [
    "import matplotlib.pyplot as plt\n",
    "import seaborn as sns\n",
    "# Load datasets\n",
    "import pandas as pd\n",
    "# Population distribution\n",
    "sns.histplot(country_total_data['population_population_number_of_people'], kde=True)\n",
    "plt.title('Country Population Distribution')\n",
    "plt.show()\n",
    "\n",
    "# Waste treatment percentages by income group\n",
    "waste_cols = ['waste_treatment_open_dump_percent', 'waste_treatment_recycling_percent']\n",
    "country_total_data.groupby('income_id')[waste_cols].mean().plot(kind='bar')\n",
    "plt.title('Waste Treatment by Income Group')\n",
    "plt.show()"
   ]
  },
  {
   "cell_type": "code",
   "execution_count": null,
   "metadata": {
    "colab": {
     "base_uri": "https://localhost:8080/",
     "height": 542
    },
    "id": "J2vYP8_qfUV5",
    "outputId": "0a0e1777-eda7-4407-d865-cf5fa0a25863"
   },
   "outputs": [],
   "source": [
    "import plotly.express as px\n",
    "\n",
    "# Example: Regional Waste Treatment Visualization\n",
    "fig = px.bar(country_total_data, x='region_id', y='waste_treatment_open_dump_percent', color='income_id')\n",
    "fig.show()"
   ]
  },
  {
   "cell_type": "code",
   "execution_count": null,
   "metadata": {
    "colab": {
     "base_uri": "https://localhost:8080/",
     "height": 542
    },
    "id": "AsHD_jtxfesM",
    "outputId": "17468b6f-259b-4c4f-efef-16db9753cdda"
   },
   "outputs": [],
   "source": [
    "import plotly.express as px\n",
    "\n",
    "# Example: Regional Waste Treatment Visualization\n",
    "fig = px.bar(country_total_data, x='region_id', y='waste_treatment_recycling_percent', color='income_id')\n",
    "fig.show()"
   ]
  },
  {
   "cell_type": "code",
   "execution_count": null,
   "metadata": {
    "colab": {
     "base_uri": "https://localhost:8080/",
     "height": 542
    },
    "id": "tJMNrGAUovCO",
    "outputId": "e501fe6b-5ebc-4d37-8e40-bf637cc9213d"
   },
   "outputs": [],
   "source": [
    "import plotly.express as px\n",
    "\n",
    "# Example: Regional Waste Treatment Visualization\n",
    "fig = px.bar(country_total_data, x='country_name', y='waste_treatment_recycling_percent', color='income_id')\n",
    "fig.show()"
   ]
  },
  {
   "cell_type": "code",
   "execution_count": null,
   "metadata": {
    "colab": {
     "base_uri": "https://localhost:8080/",
     "height": 990
    },
    "id": "FrElKZ7A90Yt",
    "outputId": "247f5caf-ceba-4be9-a5e5-fa514f6383ba"
   },
   "outputs": [],
   "source": [
    "# Convert the 'total_msw_total_msw_generated_tons_year' column to numeric type before using nlargest\n",
    "country_total_data[\"total_msw_total_msw_generated_tons_year\"] = pd.to_numeric(country_total_data[\"total_msw_total_msw_generated_tons_year\"], errors='coerce')\n",
    "\n",
    "# Filter the top 10 cities based on total waste generated\n",
    "top_countries = country_total_data.nlargest(10, \"total_msw_total_msw_generated_tons_year\")\n",
    "\n",
    "# Dynamically adjust the figure size based on the number of cities\n",
    "plt.figure(figsize=(max(15, len(top_cities) / 2), 8))  # Adjust width dynamically\n",
    "\n",
    "# Plot the bar chart\n",
    "plt.bar(top_countries[\"country_name\"], top_countries[\"total_msw_total_msw_generated_tons_year\"], color='orange')\n",
    "\n",
    "# Customize the plot\n",
    "plt.xticks(rotation=90, fontsize=10)  # Rotate X-axis labels for better readability\n",
    "plt.xlabel(\"Country Name\", fontsize=14)\n",
    "plt.ylabel(\"Total MSW Generated (tons/Year)\", fontsize=14)\n",
    "plt.title(\"Waste Generated by Top 10 Countries\", fontsize=16)\n",
    "plt.grid(axis='y', linestyle='--', alpha=0.7)\n",
    "\n",
    "# Display the plot\n",
    "plt.show()"
   ]
  },
  {
   "cell_type": "code",
   "execution_count": null,
   "metadata": {
    "colab": {
     "base_uri": "https://localhost:8080/",
     "height": 1000
    },
    "id": "zPtG3S5as6X8",
    "outputId": "5627312e-b1dc-4cc0-be52-5ffe27bf328a"
   },
   "outputs": [],
   "source": [
    "import matplotlib.pyplot as plt\n",
    "import pandas as pd\n",
    "\n",
    "# Convert the 'total_msw_total_msw_generated_tons_year' column to numeric type before using nsmallest\n",
    "country_total_data[\"total_msw_total_msw_generated_tons_year\"] = pd.to_numeric(\n",
    "    country_total_data[\"total_msw_total_msw_generated_tons_year\"], errors=\"coerce\"\n",
    ")\n",
    "\n",
    "# Filter the bottom 10 countries based on total waste generated\n",
    "bottom_countries = country_total_data.nsmallest(10, \"total_msw_total_msw_generated_tons_year\")\n",
    "\n",
    "# Dynamically adjust the figure size based on the number of countries\n",
    "plt.figure(figsize=(max(15, len(bottom_countries) / 2), 8))  # Adjust width dynamically\n",
    "\n",
    "# Plot the bar chart\n",
    "plt.bar(bottom_countries[\"country_name\"], bottom_countries[\"total_msw_total_msw_generated_tons_year\"], color=\"green\")\n",
    "\n",
    "# Customize the plot\n",
    "plt.xticks(rotation=90, fontsize=10)  # Rotate X-axis labels for better readability\n",
    "plt.xlabel(\"Country Name\", fontsize=14)\n",
    "plt.ylabel(\"Total MSW Generated (tons/Year)\", fontsize=14)\n",
    "plt.title(\"Waste Generated by Bottom 10 Countries\", fontsize=16)\n",
    "plt.grid(axis=\"y\", linestyle=\"--\", alpha=0.7)\n",
    "\n",
    "# Display the plot\n",
    "plt.show()\n"
   ]
  },
  {
   "cell_type": "code",
   "execution_count": null,
   "metadata": {
    "colab": {
     "base_uri": "https://localhost:8080/",
     "height": 608
    },
    "id": "5CwNzh-W90Tt",
    "outputId": "23f8125b-b356-4faa-d4c7-568abd279917"
   },
   "outputs": [],
   "source": [
    "country_total_data[\"gdp per capita\"] = country_total_data[\"gdp\"] / country_total_data[\"population_population_number_of_people\"]\n",
    "country_total_data"
   ]
  },
  {
   "cell_type": "code",
   "execution_count": null,
   "metadata": {
    "colab": {
     "base_uri": "https://localhost:8080/"
    },
    "id": "sNEodVBNJ0h0",
    "outputId": "98ee9ffa-9f6a-40bd-9df1-605c103bc52c"
   },
   "outputs": [],
   "source": [
    "print(country_total_data.isnull().sum())"
   ]
  },
  {
   "cell_type": "code",
   "execution_count": null,
   "metadata": {
    "colab": {
     "base_uri": "https://localhost:8080/",
     "height": 424
    },
    "id": "H1nt1eIfuoGW",
    "outputId": "edc64479-d810-464d-c078-5c5552bfea7d"
   },
   "outputs": [],
   "source": [
    "country_codebook"
   ]
  },
  {
   "cell_type": "code",
   "execution_count": null,
   "metadata": {
    "colab": {
     "base_uri": "https://localhost:8080/"
    },
    "id": "WRgiD2untHmb",
    "outputId": "a4483863-a09f-4507-84be-df3fbcbebcbe"
   },
   "outputs": [],
   "source": [
    "print(country_codebook.isnull().sum())"
   ]
  },
  {
   "cell_type": "code",
   "execution_count": null,
   "metadata": {
    "colab": {
     "base_uri": "https://localhost:8080/",
     "height": 424
    },
    "id": "NesmSYd-taKt",
    "outputId": "7fc4cab9-1542-49f8-8b02-39f0f6134d7c"
   },
   "outputs": [],
   "source": [
    "country_Newcodebook = country_codebook.dropna(subset=[\"country_name\",\"year\"], inplace=False)\n",
    "# Changed the first argument to subset=[\"total_msw_total_msw_generated_tons_year\"]\n",
    "# This will drop rows where \"total_msw_total_msw_generated_tons_year\" has missing values\n",
    "country_Newcodebook\n"
   ]
  },
  {
   "cell_type": "code",
   "execution_count": null,
   "metadata": {
    "id": "3cc85XpNuomr"
   },
   "outputs": [],
   "source": []
  },
  {
   "cell_type": "code",
   "execution_count": null,
   "metadata": {
    "colab": {
     "base_uri": "https://localhost:8080/",
     "height": 424
    },
    "id": "Wy3H4dy92n-t",
    "outputId": "cc0ca90e-2115-46eb-9eff-da6f14b9efb9"
   },
   "outputs": [],
   "source": [
    "country_finalcodebook = country_Newcodebook.iloc[:,0:7]\n",
    "country_finalcodebook"
   ]
  },
  {
   "cell_type": "code",
   "execution_count": null,
   "metadata": {
    "colab": {
     "base_uri": "https://localhost:8080/",
     "height": 424
    },
    "id": "IdggQgr2vYXk",
    "outputId": "d0385269-44d9-4071-8f33-2a2351b0c502"
   },
   "outputs": [],
   "source": [
    "# Drop rows with missing 'year' and \"country_name\"\n",
    "country_Year_codebook = country_finalcodebook.dropna(subset=[\"year\",\"country_name\"],inplace=False)\n",
    "country_Year_codebook"
   ]
  },
  {
   "cell_type": "code",
   "execution_count": null,
   "metadata": {
    "colab": {
     "base_uri": "https://localhost:8080/"
    },
    "id": "6uBIO-rGIrDy",
    "outputId": "0a7183d6-28a6-4572-9881-bfb417289411"
   },
   "outputs": [],
   "source": [
    "print(country_Year_codebook.isnull().sum())"
   ]
  },
  {
   "cell_type": "code",
   "execution_count": null,
   "metadata": {
    "colab": {
     "base_uri": "https://localhost:8080/",
     "height": 424
    },
    "id": "GXKu-83GHWyL",
    "outputId": "149009df-5d59-4169-fe0b-903ecb3ff95a"
   },
   "outputs": [],
   "source": [
    "# Convert the \"year\" column to integers\n",
    "country_Year_codebook['year'] = country_Year_codebook['year'].astype(int)\n",
    "\n",
    "country_Year_codebook"
   ]
  },
  {
   "cell_type": "code",
   "execution_count": null,
   "metadata": {
    "colab": {
     "base_uri": "https://localhost:8080/",
     "height": 424
    },
    "id": "CwfrQWrMG_uF",
    "outputId": "82a1218d-03a3-4273-a466-6fb6e72bc782"
   },
   "outputs": [],
   "source": [
    "# Filter rows based on the \"units\" column\n",
    "tonnes_data1 = country_Year_codebook[country_Year_codebook['measurement'] == 'total_msw_total_msw_generated_tons_year']\n",
    "tonnes_data1"
   ]
  },
  {
   "cell_type": "code",
   "execution_count": null,
   "metadata": {
    "colab": {
     "base_uri": "https://localhost:8080/"
    },
    "id": "xzklDCqPJnAN",
    "outputId": "345e125c-2cec-4c97-aa10-1c8a8043fd9e"
   },
   "outputs": [],
   "source": [
    "print(tonnes_data1.isnull().sum())"
   ]
  },
  {
   "cell_type": "code",
   "execution_count": null,
   "metadata": {
    "colab": {
     "base_uri": "https://localhost:8080/",
     "height": 461
    },
    "id": "TSordkVnxzaQ",
    "outputId": "b2d62beb-f6c4-431d-ec6c-57d79c9f88db"
   },
   "outputs": [],
   "source": [
    "import pandas as pd\n",
    "\n",
    "# Perform the merge on common columns\n",
    "country_com_codebook = pd.merge(\n",
    "    country_total_data,\n",
    "    tonnes_data1[[\"country_name\", \"year\"]],  # Only keep necessary columns from tonnes_data\n",
    "    how=\"left\",  # Left join to keep all rows from city_com_data\n",
    "    on=\"country_name\"  # Merge on city_name\n",
    ")\n",
    "\n",
    "# Check the resulting table\n",
    "country_com_codebook"
   ]
  },
  {
   "cell_type": "code",
   "execution_count": null,
   "metadata": {
    "colab": {
     "base_uri": "https://localhost:8080/"
    },
    "id": "FYeHC03QyoV0",
    "outputId": "65445775-d688-4414-f34f-12c53cbc3ba5"
   },
   "outputs": [],
   "source": [
    "# Check for missing values\n",
    "print(country_com_codebook.isnull().sum())"
   ]
  },
  {
   "cell_type": "code",
   "execution_count": null,
   "metadata": {
    "colab": {
     "base_uri": "https://localhost:8080/",
     "height": 608
    },
    "id": "tT3XYzMSzIiM",
    "outputId": "ba9fda15-466f-400e-dd56-e920c3040f88"
   },
   "outputs": [],
   "source": [
    "# Drop rows where \"year\" is NaN\n",
    "country_com_codebook = country_com_codebook.dropna(subset=[\"year\"])\n",
    "\n",
    "# Convert the \"year\" column to integers\n",
    "country_com_codebook['year'] = country_com_codebook['year'].astype(int)\n",
    "\n",
    "country_com_codebook"
   ]
  },
  {
   "cell_type": "code",
   "execution_count": null,
   "metadata": {
    "colab": {
     "base_uri": "https://localhost:8080/"
    },
    "id": "fYNSnIQOV2fX",
    "outputId": "6c923841-43a9-4709-8811-d4facbbe8453"
   },
   "outputs": [],
   "source": [
    "# Check for missing values\n",
    "print(country_com_codebook.isnull().sum())"
   ]
  },
  {
   "cell_type": "code",
   "execution_count": null,
   "metadata": {
    "colab": {
     "base_uri": "https://localhost:8080/",
     "height": 472
    },
    "id": "xi8SZ2pczcNw",
    "outputId": "a7ac2713-d29b-4aa1-84ea-b78646be1961"
   },
   "outputs": [],
   "source": [
    "# Trend analysis for a specific metric\n",
    "yearly_trend = country_com_codebook.groupby('year')['waste_treatment_open_dump_percent'].mean()\n",
    "yearly_trend.plot()\n",
    "plt.title('Country Waste Treatment open_dump Trends Over Time')\n",
    "plt.show()"
   ]
  },
  {
   "cell_type": "code",
   "execution_count": null,
   "metadata": {
    "colab": {
     "base_uri": "https://localhost:8080/",
     "height": 472
    },
    "id": "4CXZHs8Ozk04",
    "outputId": "d7651e5a-ef8f-449b-a97b-fd8cdf29314f"
   },
   "outputs": [],
   "source": [
    "# Trend analysis for a specific metric\n",
    "yearly_trend = country_com_codebook.groupby('year')['waste_treatment_recycling_percent'].mean()\n",
    "yearly_trend.plot()\n",
    "plt.title('Country Waste Treatment recycling Trends Over Time')\n",
    "plt.show()"
   ]
  },
  {
   "cell_type": "code",
   "execution_count": null,
   "metadata": {
    "id": "J1BrfShVhS_t"
   },
   "outputs": [],
   "source": [
    "# Save the file to Google Drive\n",
    "#merged_total_data.to_csv('/content/drive/My Drive/merged_total_data.csv',encoding='cp1252',index=False)"
   ]
  },
  {
   "cell_type": "code",
   "execution_count": null,
   "metadata": {
    "colab": {
     "base_uri": "https://localhost:8080/",
     "height": 206
    },
    "id": "WU_YoG9-kil6",
    "outputId": "dd1e301b-abb4-48de-bf0e-e5382676f2f1"
   },
   "outputs": [],
   "source": [
    "city_com_codebook.head()"
   ]
  },
  {
   "cell_type": "code",
   "execution_count": null,
   "metadata": {
    "colab": {
     "base_uri": "https://localhost:8080/",
     "height": 424
    },
    "id": "vB-CmFXWmAE5",
    "outputId": "0636d1c0-6ff8-4ca1-9a7d-35558b187d3d"
   },
   "outputs": [],
   "source": [
    "city_com_codebook1 = city_com_codebook.iloc[:,[2,3,7]]\n",
    "city_com_codebook1"
   ]
  },
  {
   "cell_type": "code",
   "execution_count": null,
   "metadata": {
    "colab": {
     "base_uri": "https://localhost:8080/",
     "height": 244
    },
    "id": "Ms6-ntGckskt",
    "outputId": "0faf9d82-3c53-4370-9e43-4d2a5040bd0c"
   },
   "outputs": [],
   "source": [
    "country_com_codebook.head()"
   ]
  },
  {
   "cell_type": "code",
   "execution_count": null,
   "metadata": {
    "colab": {
     "base_uri": "https://localhost:8080/",
     "height": 424
    },
    "id": "PJv90WyDuNZG",
    "outputId": "4ab475d9-ed33-42a3-a374-e35a58a9ee1c"
   },
   "outputs": [],
   "source": [
    "country_com_codebook1 = country_com_codebook.iloc[:,[2,9]]\n",
    "country_com_codebook1"
   ]
  },
  {
   "cell_type": "code",
   "execution_count": null,
   "metadata": {
    "colab": {
     "base_uri": "https://localhost:8080/",
     "height": 424
    },
    "id": "4eohuHW_3Xka",
    "outputId": "aad8686c-43b7-4186-92c3-e372f40c756a"
   },
   "outputs": [],
   "source": [
    "import pandas as pd\n",
    "\n",
    "# Ensure the 'country_name' column exists in both tables\n",
    "# Merge the tables on the 'country_name' column\n",
    "merged_table = pd.merge(city_com_codebook1, country_com_codebook1, on=\"country_name\", how=\"inner\")\n",
    "\n",
    "# Display the result\n",
    "merged_table\n",
    "\n",
    "\n"
   ]
  },
  {
   "cell_type": "code",
   "execution_count": null,
   "metadata": {
    "colab": {
     "base_uri": "https://localhost:8080/"
    },
    "id": "hmvwynWM4DZC",
    "outputId": "359f2bd8-5722-4d3a-d460-88b712776bd9"
   },
   "outputs": [],
   "source": [
    "# Check for missing values\n",
    "print(merged_table.isnull().sum())"
   ]
  },
  {
   "cell_type": "code",
   "execution_count": null,
   "metadata": {
    "colab": {
     "base_uri": "https://localhost:8080/",
     "height": 490
    },
    "id": "PcNHQQEu30-b",
    "outputId": "9aaed890-37a0-4f23-fbc4-cac34fe1e011"
   },
   "outputs": [],
   "source": [
    "# Example Analysis: Correlation between GDP per capita and MSW per capita\n",
    "correlation = merged_table[\"gdp per capita\"].corr(merged_table[\"msw per capita\"])\n",
    "print(f\"Correlation between GDP per capita and MSW per capita: {correlation}\")\n",
    "\n",
    "# Optional: Visualization\n",
    "import matplotlib.pyplot as plt\n",
    "\n",
    "plt.scatter(merged_table[\"gdp per capita\"], merged_table[\"msw per capita\"], color='gold')\n",
    "plt.title(\"Correlation\")\n",
    "plt.xlabel(\"GDP per Capita\")\n",
    "plt.ylabel(\"MSW per Capita\")\n",
    "plt.grid()\n",
    "plt.show()"
   ]
  },
  {
   "cell_type": "code",
   "execution_count": null,
   "metadata": {},
   "outputs": [],
   "source": []
  },
  {
   "cell_type": "code",
   "execution_count": null,
   "metadata": {},
   "outputs": [],
   "source": []
  },
  {
   "cell_type": "code",
   "execution_count": null,
   "metadata": {},
   "outputs": [],
   "source": []
  },
  {
   "cell_type": "code",
   "execution_count": null,
   "metadata": {},
   "outputs": [],
   "source": []
  },
  {
   "cell_type": "code",
   "execution_count": null,
   "metadata": {},
   "outputs": [],
   "source": []
  },
  {
   "cell_type": "code",
   "execution_count": null,
   "metadata": {},
   "outputs": [],
   "source": []
  },
  {
   "cell_type": "code",
   "execution_count": null,
   "metadata": {},
   "outputs": [],
   "source": []
  },
  {
   "cell_type": "code",
   "execution_count": null,
   "metadata": {},
   "outputs": [],
   "source": []
  }
 ],
 "metadata": {
  "colab": {
   "provenance": []
  },
  "kernelspec": {
   "display_name": "Python 3 (ipykernel)",
   "language": "python",
   "name": "python3"
  },
  "language_info": {
   "codemirror_mode": {
    "name": "ipython",
    "version": 3
   },
   "file_extension": ".py",
   "mimetype": "text/x-python",
   "name": "python",
   "nbconvert_exporter": "python",
   "pygments_lexer": "ipython3",
   "version": "3.11.4"
  }
 },
 "nbformat": 4,
 "nbformat_minor": 4
}
